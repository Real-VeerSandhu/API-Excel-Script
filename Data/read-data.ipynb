{
 "cells": [
  {
   "cell_type": "code",
   "execution_count": 1,
   "metadata": {},
   "outputs": [],
   "source": [
    "import json\n",
    "\n",
    "# Opening JSON file\n",
    "f = open('excel-call.json')\n",
    "\n",
    "# returns JSON object as\n",
    "# a dictionary\n",
    "data = json.load(f)"
   ]
  },
  {
   "cell_type": "code",
   "execution_count": 5,
   "metadata": {},
   "outputs": [
    {
     "data": {
      "text/plain": [
       "dict_keys(['sNo', 'leaseNo', 'sequence', 'applicant', 'address', 'city', 'province', 'postal', 'homePhone', 'businessPhone', 'cellPhone', 'salesPerson', 'year', 'make', 'model', 'vin', 'vendor', 'vinLastSix', 'term', 'remainingTerm', 'frequency', 'firstPaymentDt', 'sellingPrice', 'gapPremium', 'walkAwayPremium', 'sellingPriceWithSp', 'adminFeetPine', 'downRcd', 'rental', 'gap', 'pymtBfrTax', 'creditRating', 'status1', 'status2', 'papDt', 'contractType', 'walkAway', 'fundedOn', 'isIncomplete', 'isObsolete', 'id'])"
      ]
     },
     "execution_count": 5,
     "metadata": {},
     "output_type": "execute_result"
    }
   ],
   "source": [
    "data[0].keys()"
   ]
  },
  {
   "cell_type": "code",
   "execution_count": 6,
   "metadata": {},
   "outputs": [
    {
     "data": {
      "text/plain": [
       "dict_keys(['sNo', 'leaseNo', 'sequence', 'homePhone', 'cellPhone', 'salesPerson', 'vendor', 'remainingTerm', 'frequency', 'sellingPrice', 'gapPremium', 'walkAwayPremium', 'sellingPriceWithSp', 'down', 'adminFeetPine', 'downRcd', 'finAmtWithSp', 'finAmtWithoutSp', 'gap', 'endOfTerm', 'applicableTaxes', 'fico', 'bni', 'creditRating', 'status1', 'status2', 'papDt', 'reserveRelease', 'contractType', 'walkAway', 'isIncomplete', 'id'])"
      ]
     },
     "execution_count": 6,
     "metadata": {},
     "output_type": "execute_result"
    }
   ],
   "source": [
    "data[1].keys()"
   ]
  },
  {
   "cell_type": "code",
   "execution_count": 7,
   "metadata": {},
   "outputs": [
    {
     "data": {
      "text/plain": [
       "False"
      ]
     },
     "execution_count": 7,
     "metadata": {},
     "output_type": "execute_result"
    }
   ],
   "source": [
    "data[0].keys() == data[1].keys()"
   ]
  },
  {
   "cell_type": "markdown",
   "metadata": {},
   "source": [
    "# JSON Comparison"
   ]
  },
  {
   "cell_type": "code",
   "execution_count": 8,
   "metadata": {},
   "outputs": [],
   "source": [
    "full_map = {\n",
    "    'sNo': '',\n",
    "    'leaseNo': '',\n",
    "    'sequence': '',\n",
    "    'applicant': '',\n",
    "    'address': '',\n",
    "    'city': ''\n",
    "}"
   ]
  },
  {
   "cell_type": "code",
   "execution_count": 9,
   "metadata": {},
   "outputs": [],
   "source": [
    "input1 = {\n",
    "    'sNo': '342',\n",
    "    'leaseNo': '2424',\n",
    "    'sequence': 'twei',\n",
    "    'city': 'Newark',\n",
    "}"
   ]
  },
  {
   "cell_type": "code",
   "execution_count": 10,
   "metadata": {},
   "outputs": [],
   "source": [
    "input2 = {\n",
    "    'sequence': 'weto',\n",
    "    'applicant': 'me',\n",
    "    'address': '14 street',\n",
    "    'city': 'Chicago'\n",
    "}"
   ]
  },
  {
   "cell_type": "code",
   "execution_count": 14,
   "metadata": {},
   "outputs": [],
   "source": [
    "def transform_dictionary(input_dict, full_map):\n",
    "    transformed_dict = {}\n",
    "\n",
    "    # Iterate over each key in the full_map\n",
    "    for key in full_map.keys():\n",
    "        # If the key exists in the input_dict, use its value\n",
    "        # Otherwise, assign None as the value\n",
    "        transformed_dict[key] = input_dict.get(key, None)\n",
    "\n",
    "    return transformed_dict"
   ]
  },
  {
   "cell_type": "code",
   "execution_count": 15,
   "metadata": {},
   "outputs": [
    {
     "data": {
      "text/plain": [
       "{'sNo': '342',\n",
       " 'leaseNo': '2424',\n",
       " 'sequence': 'twei',\n",
       " 'applicant': None,\n",
       " 'address': None,\n",
       " 'city': 'Newark'}"
      ]
     },
     "execution_count": 15,
     "metadata": {},
     "output_type": "execute_result"
    }
   ],
   "source": [
    "transform_dictionary(input1, full_map)"
   ]
  },
  {
   "cell_type": "code",
   "execution_count": 16,
   "metadata": {},
   "outputs": [
    {
     "data": {
      "text/plain": [
       "{'sNo': '342', 'leaseNo': '2424', 'sequence': 'twei', 'city': 'Newark'}"
      ]
     },
     "execution_count": 16,
     "metadata": {},
     "output_type": "execute_result"
    }
   ],
   "source": [
    "input1"
   ]
  }
 ],
 "metadata": {
  "kernelspec": {
   "display_name": "base",
   "language": "python",
   "name": "python3"
  },
  "language_info": {
   "codemirror_mode": {
    "name": "ipython",
    "version": 3
   },
   "file_extension": ".py",
   "mimetype": "text/x-python",
   "name": "python",
   "nbconvert_exporter": "python",
   "pygments_lexer": "ipython3",
   "version": "3.10.10"
  },
  "orig_nbformat": 4
 },
 "nbformat": 4,
 "nbformat_minor": 2
}
