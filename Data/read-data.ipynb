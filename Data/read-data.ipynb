{
 "cells": [
  {
   "cell_type": "code",
   "execution_count": 1,
   "metadata": {},
   "outputs": [],
   "source": [
    "import json\n",
    "\n",
    "# Opening JSON file\n",
    "f = open('excel-call.json')\n",
    "\n",
    "# returns JSON object as\n",
    "# a dictionary\n",
    "data = json.load(f)"
   ]
  },
  {
   "cell_type": "code",
   "execution_count": 5,
   "metadata": {},
   "outputs": [
    {
     "data": {
      "text/plain": [
       "dict_keys(['sNo', 'leaseNo', 'sequence', 'applicant', 'address', 'city', 'province', 'postal', 'homePhone', 'businessPhone', 'cellPhone', 'salesPerson', 'year', 'make', 'model', 'vin', 'vendor', 'vinLastSix', 'term', 'remainingTerm', 'frequency', 'firstPaymentDt', 'sellingPrice', 'gapPremium', 'walkAwayPremium', 'sellingPriceWithSp', 'adminFeetPine', 'downRcd', 'rental', 'gap', 'pymtBfrTax', 'creditRating', 'status1', 'status2', 'papDt', 'contractType', 'walkAway', 'fundedOn', 'isIncomplete', 'isObsolete', 'id'])"
      ]
     },
     "execution_count": 5,
     "metadata": {},
     "output_type": "execute_result"
    }
   ],
   "source": [
    "data[0].keys()"
   ]
  },
  {
   "cell_type": "code",
   "execution_count": 6,
   "metadata": {},
   "outputs": [
    {
     "data": {
      "text/plain": [
       "dict_keys(['sNo', 'leaseNo', 'sequence', 'homePhone', 'cellPhone', 'salesPerson', 'vendor', 'remainingTerm', 'frequency', 'sellingPrice', 'gapPremium', 'walkAwayPremium', 'sellingPriceWithSp', 'down', 'adminFeetPine', 'downRcd', 'finAmtWithSp', 'finAmtWithoutSp', 'gap', 'endOfTerm', 'applicableTaxes', 'fico', 'bni', 'creditRating', 'status1', 'status2', 'papDt', 'reserveRelease', 'contractType', 'walkAway', 'isIncomplete', 'id'])"
      ]
     },
     "execution_count": 6,
     "metadata": {},
     "output_type": "execute_result"
    }
   ],
   "source": [
    "data[1].keys()"
   ]
  },
  {
   "cell_type": "code",
   "execution_count": 7,
   "metadata": {},
   "outputs": [
    {
     "data": {
      "text/plain": [
       "False"
      ]
     },
     "execution_count": 7,
     "metadata": {},
     "output_type": "execute_result"
    }
   ],
   "source": [
    "data[0].keys() == data[1].keys()"
   ]
  },
  {
   "cell_type": "markdown",
   "metadata": {},
   "source": [
    "# JSON Comparison"
   ]
  },
  {
   "cell_type": "code",
   "execution_count": null,
   "metadata": {},
   "outputs": [],
   "source": [
    "full_map = {\n",
    "    'sNo': '',\n",
    "    'leaseNo': '',\n",
    "    'sequence': '',\n",
    "    'applicant': '',\n",
    "    'address': '',\n",
    "    'city': ''\n",
    "}"
   ]
  },
  {
   "cell_type": "code",
   "execution_count": null,
   "metadata": {},
   "outputs": [],
   "source": [
    "input1 = {\n",
    "    'sNo': '342',\n",
    "    'leaseNo': '2424',\n",
    "    'sequence': 'twei',\n",
    "    'city': 'Newark',\n",
    "}"
   ]
  },
  {
   "cell_type": "code",
   "execution_count": null,
   "metadata": {},
   "outputs": [],
   "source": [
    "input2 = {\n",
    "    'sequence': 'weto',\n",
    "    'applicant': 'me',\n",
    "    'address': '14 street',\n",
    "    'city': 'Chicago'\n",
    "}"
   ]
  },
  {
   "cell_type": "markdown",
   "metadata": {},
   "source": [
    "I have a 3 dictionaries in python. full_map describes the structure of all the other dictionaries. input1 is an input from the internet. When it was recived certain feilds were empty and so the dictionary does not have those keys. THe same with input2. How can I transform input1 and input2 so they have the same structure as full_map. Write a function."
   ]
  }
 ],
 "metadata": {
  "kernelspec": {
   "display_name": "base",
   "language": "python",
   "name": "python3"
  },
  "language_info": {
   "codemirror_mode": {
    "name": "ipython",
    "version": 3
   },
   "file_extension": ".py",
   "mimetype": "text/x-python",
   "name": "python",
   "nbconvert_exporter": "python",
   "pygments_lexer": "ipython3",
   "version": "3.10.10"
  },
  "orig_nbformat": 4
 },
 "nbformat": 4,
 "nbformat_minor": 2
}
